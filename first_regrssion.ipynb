{
  "cells": [
    {
      "cell_type": "code",
      "execution_count": 1,
      "metadata": {
        "id": "B2OL9BZzDqhw"
      },
      "outputs": [],
      "source": [
        "import pandas as pd\n",
        "import xgboost as xgb\n",
        "import matplotlib.pyplot as plt"
      ]
    },
    {
      "cell_type": "code",
      "execution_count": 3,
      "metadata": {
        "colab": {
          "base_uri": "https://localhost:8080/",
          "height": 808
        },
        "id": "e43dohzhSGcl",
        "outputId": "7fad86e8-0e16-4955-f335-b0c6241820a6"
      },
      "outputs": [
        {
          "data": {
            "text/html": [
              "<div>\n",
              "<style scoped>\n",
              "    .dataframe tbody tr th:only-of-type {\n",
              "        vertical-align: middle;\n",
              "    }\n",
              "\n",
              "    .dataframe tbody tr th {\n",
              "        vertical-align: top;\n",
              "    }\n",
              "\n",
              "    .dataframe thead th {\n",
              "        text-align: right;\n",
              "    }\n",
              "</style>\n",
              "<table border=\"1\" class=\"dataframe\">\n",
              "  <thead>\n",
              "    <tr style=\"text-align: right;\">\n",
              "      <th></th>\n",
              "      <th>Unnamed: 0.1</th>\n",
              "      <th>Unnamed: 0</th>\n",
              "      <th>Time</th>\n",
              "      <th>Open</th>\n",
              "      <th>High</th>\n",
              "      <th>Low</th>\n",
              "      <th>Close</th>\n",
              "      <th>tick_volume</th>\n",
              "      <th>spread</th>\n",
              "      <th>real_volume</th>\n",
              "      <th>...</th>\n",
              "      <th>three_outside</th>\n",
              "      <th>three_line_strike</th>\n",
              "      <th>sticksandwish</th>\n",
              "      <th>darkcloudcover</th>\n",
              "      <th>BearishCross</th>\n",
              "      <th>eveningstar</th>\n",
              "      <th>eveningdojistar</th>\n",
              "      <th>gravestonedoji</th>\n",
              "      <th>invertedhammer</th>\n",
              "      <th>hangingman</th>\n",
              "    </tr>\n",
              "  </thead>\n",
              "  <tbody>\n",
              "    <tr>\n",
              "      <th>0</th>\n",
              "      <td>0</td>\n",
              "      <td>0</td>\n",
              "      <td>2022-06-27 23:45:00</td>\n",
              "      <td>0.89110</td>\n",
              "      <td>0.89127</td>\n",
              "      <td>0.89096</td>\n",
              "      <td>0.89098</td>\n",
              "      <td>40</td>\n",
              "      <td>34</td>\n",
              "      <td>0</td>\n",
              "      <td>...</td>\n",
              "      <td>0</td>\n",
              "      <td>0</td>\n",
              "      <td>0</td>\n",
              "      <td>0</td>\n",
              "      <td>False</td>\n",
              "      <td>0</td>\n",
              "      <td>0</td>\n",
              "      <td>0</td>\n",
              "      <td>0</td>\n",
              "      <td>0</td>\n",
              "    </tr>\n",
              "    <tr>\n",
              "      <th>1</th>\n",
              "      <td>1</td>\n",
              "      <td>1</td>\n",
              "      <td>2022-06-27 23:48:00</td>\n",
              "      <td>0.89100</td>\n",
              "      <td>0.89119</td>\n",
              "      <td>0.89099</td>\n",
              "      <td>0.89099</td>\n",
              "      <td>53</td>\n",
              "      <td>34</td>\n",
              "      <td>0</td>\n",
              "      <td>...</td>\n",
              "      <td>0</td>\n",
              "      <td>0</td>\n",
              "      <td>0</td>\n",
              "      <td>0</td>\n",
              "      <td>False</td>\n",
              "      <td>0</td>\n",
              "      <td>0</td>\n",
              "      <td>0</td>\n",
              "      <td>0</td>\n",
              "      <td>0</td>\n",
              "    </tr>\n",
              "    <tr>\n",
              "      <th>2</th>\n",
              "      <td>2</td>\n",
              "      <td>2</td>\n",
              "      <td>2022-06-27 23:51:00</td>\n",
              "      <td>0.89096</td>\n",
              "      <td>0.89116</td>\n",
              "      <td>0.89094</td>\n",
              "      <td>0.89114</td>\n",
              "      <td>66</td>\n",
              "      <td>33</td>\n",
              "      <td>0</td>\n",
              "      <td>...</td>\n",
              "      <td>0</td>\n",
              "      <td>0</td>\n",
              "      <td>0</td>\n",
              "      <td>0</td>\n",
              "      <td>False</td>\n",
              "      <td>0</td>\n",
              "      <td>0</td>\n",
              "      <td>0</td>\n",
              "      <td>0</td>\n",
              "      <td>0</td>\n",
              "    </tr>\n",
              "    <tr>\n",
              "      <th>3</th>\n",
              "      <td>3</td>\n",
              "      <td>3</td>\n",
              "      <td>2022-06-27 23:54:00</td>\n",
              "      <td>0.89114</td>\n",
              "      <td>0.89114</td>\n",
              "      <td>0.89101</td>\n",
              "      <td>0.89101</td>\n",
              "      <td>22</td>\n",
              "      <td>35</td>\n",
              "      <td>0</td>\n",
              "      <td>...</td>\n",
              "      <td>0</td>\n",
              "      <td>0</td>\n",
              "      <td>0</td>\n",
              "      <td>0</td>\n",
              "      <td>False</td>\n",
              "      <td>0</td>\n",
              "      <td>0</td>\n",
              "      <td>0</td>\n",
              "      <td>0</td>\n",
              "      <td>0</td>\n",
              "    </tr>\n",
              "    <tr>\n",
              "      <th>4</th>\n",
              "      <td>4</td>\n",
              "      <td>4</td>\n",
              "      <td>2022-06-27 23:57:00</td>\n",
              "      <td>0.89103</td>\n",
              "      <td>0.89134</td>\n",
              "      <td>0.89058</td>\n",
              "      <td>0.89079</td>\n",
              "      <td>91</td>\n",
              "      <td>44</td>\n",
              "      <td>0</td>\n",
              "      <td>...</td>\n",
              "      <td>0</td>\n",
              "      <td>0</td>\n",
              "      <td>0</td>\n",
              "      <td>0</td>\n",
              "      <td>False</td>\n",
              "      <td>0</td>\n",
              "      <td>0</td>\n",
              "      <td>0</td>\n",
              "      <td>0</td>\n",
              "      <td>0</td>\n",
              "    </tr>\n",
              "    <tr>\n",
              "      <th>...</th>\n",
              "      <td>...</td>\n",
              "      <td>...</td>\n",
              "      <td>...</td>\n",
              "      <td>...</td>\n",
              "      <td>...</td>\n",
              "      <td>...</td>\n",
              "      <td>...</td>\n",
              "      <td>...</td>\n",
              "      <td>...</td>\n",
              "      <td>...</td>\n",
              "      <td>...</td>\n",
              "      <td>...</td>\n",
              "      <td>...</td>\n",
              "      <td>...</td>\n",
              "      <td>...</td>\n",
              "      <td>...</td>\n",
              "      <td>...</td>\n",
              "      <td>...</td>\n",
              "      <td>...</td>\n",
              "      <td>...</td>\n",
              "      <td>...</td>\n",
              "    </tr>\n",
              "    <tr>\n",
              "      <th>28795</th>\n",
              "      <td>28795</td>\n",
              "      <td>28795</td>\n",
              "      <td>2022-09-19 23:48:00</td>\n",
              "      <td>0.89105</td>\n",
              "      <td>0.89110</td>\n",
              "      <td>0.89097</td>\n",
              "      <td>0.89100</td>\n",
              "      <td>31</td>\n",
              "      <td>27</td>\n",
              "      <td>0</td>\n",
              "      <td>...</td>\n",
              "      <td>0</td>\n",
              "      <td>0</td>\n",
              "      <td>0</td>\n",
              "      <td>0</td>\n",
              "      <td>False</td>\n",
              "      <td>0</td>\n",
              "      <td>0</td>\n",
              "      <td>0</td>\n",
              "      <td>0</td>\n",
              "      <td>0</td>\n",
              "    </tr>\n",
              "    <tr>\n",
              "      <th>28796</th>\n",
              "      <td>28796</td>\n",
              "      <td>28796</td>\n",
              "      <td>2022-09-19 23:51:00</td>\n",
              "      <td>0.89100</td>\n",
              "      <td>0.89105</td>\n",
              "      <td>0.89097</td>\n",
              "      <td>0.89100</td>\n",
              "      <td>19</td>\n",
              "      <td>26</td>\n",
              "      <td>0</td>\n",
              "      <td>...</td>\n",
              "      <td>0</td>\n",
              "      <td>0</td>\n",
              "      <td>0</td>\n",
              "      <td>0</td>\n",
              "      <td>False</td>\n",
              "      <td>0</td>\n",
              "      <td>0</td>\n",
              "      <td>0</td>\n",
              "      <td>0</td>\n",
              "      <td>0</td>\n",
              "    </tr>\n",
              "    <tr>\n",
              "      <th>28797</th>\n",
              "      <td>28797</td>\n",
              "      <td>28797</td>\n",
              "      <td>2022-09-19 23:54:00</td>\n",
              "      <td>0.89098</td>\n",
              "      <td>0.89115</td>\n",
              "      <td>0.89098</td>\n",
              "      <td>0.89115</td>\n",
              "      <td>30</td>\n",
              "      <td>26</td>\n",
              "      <td>0</td>\n",
              "      <td>...</td>\n",
              "      <td>0</td>\n",
              "      <td>0</td>\n",
              "      <td>0</td>\n",
              "      <td>0</td>\n",
              "      <td>False</td>\n",
              "      <td>0</td>\n",
              "      <td>0</td>\n",
              "      <td>0</td>\n",
              "      <td>0</td>\n",
              "      <td>0</td>\n",
              "    </tr>\n",
              "    <tr>\n",
              "      <th>28798</th>\n",
              "      <td>28798</td>\n",
              "      <td>28798</td>\n",
              "      <td>2022-09-19 23:57:00</td>\n",
              "      <td>0.89118</td>\n",
              "      <td>0.89130</td>\n",
              "      <td>0.89117</td>\n",
              "      <td>0.89120</td>\n",
              "      <td>28</td>\n",
              "      <td>26</td>\n",
              "      <td>0</td>\n",
              "      <td>...</td>\n",
              "      <td>0</td>\n",
              "      <td>0</td>\n",
              "      <td>0</td>\n",
              "      <td>0</td>\n",
              "      <td>False</td>\n",
              "      <td>0</td>\n",
              "      <td>0</td>\n",
              "      <td>0</td>\n",
              "      <td>0</td>\n",
              "      <td>0</td>\n",
              "    </tr>\n",
              "    <tr>\n",
              "      <th>28799</th>\n",
              "      <td>28799</td>\n",
              "      <td>28799</td>\n",
              "      <td>2022-09-20 00:00:00</td>\n",
              "      <td>0.89100</td>\n",
              "      <td>0.89105</td>\n",
              "      <td>0.89065</td>\n",
              "      <td>0.89100</td>\n",
              "      <td>8</td>\n",
              "      <td>150</td>\n",
              "      <td>0</td>\n",
              "      <td>...</td>\n",
              "      <td>0</td>\n",
              "      <td>0</td>\n",
              "      <td>0</td>\n",
              "      <td>0</td>\n",
              "      <td>False</td>\n",
              "      <td>0</td>\n",
              "      <td>0</td>\n",
              "      <td>0</td>\n",
              "      <td>0</td>\n",
              "      <td>0</td>\n",
              "    </tr>\n",
              "  </tbody>\n",
              "</table>\n",
              "<p>28800 rows × 30 columns</p>\n",
              "</div>"
            ],
            "text/plain": [
              "       Unnamed: 0.1  Unnamed: 0                 Time     Open     High  \\\n",
              "0                 0           0  2022-06-27 23:45:00  0.89110  0.89127   \n",
              "1                 1           1  2022-06-27 23:48:00  0.89100  0.89119   \n",
              "2                 2           2  2022-06-27 23:51:00  0.89096  0.89116   \n",
              "3                 3           3  2022-06-27 23:54:00  0.89114  0.89114   \n",
              "4                 4           4  2022-06-27 23:57:00  0.89103  0.89134   \n",
              "...             ...         ...                  ...      ...      ...   \n",
              "28795         28795       28795  2022-09-19 23:48:00  0.89105  0.89110   \n",
              "28796         28796       28796  2022-09-19 23:51:00  0.89100  0.89105   \n",
              "28797         28797       28797  2022-09-19 23:54:00  0.89098  0.89115   \n",
              "28798         28798       28798  2022-09-19 23:57:00  0.89118  0.89130   \n",
              "28799         28799       28799  2022-09-20 00:00:00  0.89100  0.89105   \n",
              "\n",
              "           Low    Close  tick_volume  spread  real_volume  ...  three_outside  \\\n",
              "0      0.89096  0.89098           40      34            0  ...              0   \n",
              "1      0.89099  0.89099           53      34            0  ...              0   \n",
              "2      0.89094  0.89114           66      33            0  ...              0   \n",
              "3      0.89101  0.89101           22      35            0  ...              0   \n",
              "4      0.89058  0.89079           91      44            0  ...              0   \n",
              "...        ...      ...          ...     ...          ...  ...            ...   \n",
              "28795  0.89097  0.89100           31      27            0  ...              0   \n",
              "28796  0.89097  0.89100           19      26            0  ...              0   \n",
              "28797  0.89098  0.89115           30      26            0  ...              0   \n",
              "28798  0.89117  0.89120           28      26            0  ...              0   \n",
              "28799  0.89065  0.89100            8     150            0  ...              0   \n",
              "\n",
              "       three_line_strike  sticksandwish  darkcloudcover  BearishCross  \\\n",
              "0                      0              0               0         False   \n",
              "1                      0              0               0         False   \n",
              "2                      0              0               0         False   \n",
              "3                      0              0               0         False   \n",
              "4                      0              0               0         False   \n",
              "...                  ...            ...             ...           ...   \n",
              "28795                  0              0               0         False   \n",
              "28796                  0              0               0         False   \n",
              "28797                  0              0               0         False   \n",
              "28798                  0              0               0         False   \n",
              "28799                  0              0               0         False   \n",
              "\n",
              "       eveningstar  eveningdojistar  gravestonedoji  invertedhammer  \\\n",
              "0                0                0               0               0   \n",
              "1                0                0               0               0   \n",
              "2                0                0               0               0   \n",
              "3                0                0               0               0   \n",
              "4                0                0               0               0   \n",
              "...            ...              ...             ...             ...   \n",
              "28795            0                0               0               0   \n",
              "28796            0                0               0               0   \n",
              "28797            0                0               0               0   \n",
              "28798            0                0               0               0   \n",
              "28799            0                0               0               0   \n",
              "\n",
              "       hangingman  \n",
              "0               0  \n",
              "1               0  \n",
              "2               0  \n",
              "3               0  \n",
              "4               0  \n",
              "...           ...  \n",
              "28795           0  \n",
              "28796           0  \n",
              "28797           0  \n",
              "28798           0  \n",
              "28799           0  \n",
              "\n",
              "[28800 rows x 30 columns]"
            ]
          },
          "execution_count": 3,
          "metadata": {},
          "output_type": "execute_result"
        }
      ],
      "source": [
        "data = pd.read_csv('data/AUDCAD')\n",
        "data"
      ]
    },
    {
      "cell_type": "code",
      "execution_count": 32,
      "metadata": {
        "colab": {
          "base_uri": "https://localhost:8080/",
          "height": 447
        },
        "id": "gVSMJhGxXxxa",
        "outputId": "3d21dc58-c2b3-4b1e-d692-7dad03c8db59"
      },
      "outputs": [],
      "source": [
        "#data['sma_20'].plot()"
      ]
    },
    {
      "cell_type": "code",
      "execution_count": 33,
      "metadata": {
        "id": "nDyhGxCrX9Gp"
      },
      "outputs": [],
      "source": [
        "#spliting data\n",
        "train_data = data.iloc[:int(.70*len(data)) , :]\n",
        "test_data = data.iloc[int(.70*len(data)): , :]"
      ]
    },
    {
      "cell_type": "code",
      "execution_count": 34,
      "metadata": {
        "id": "iOPxqklzYk7q"
      },
      "outputs": [],
      "source": [
        "features = ['Open', 'Close','tick_volume']\n",
        "target = 'Close'"
      ]
    },
    {
      "cell_type": "code",
      "execution_count": 35,
      "metadata": {
        "colab": {
          "base_uri": "https://localhost:8080/",
          "height": 248
        },
        "id": "cVbt7bPpblE7",
        "outputId": "9045f646-4eb3-47ac-e1fc-bfb8cb8f1d3b"
      },
      "outputs": [
        {
          "name": "stderr",
          "output_type": "stream",
          "text": [
            "c:\\Users\\abdelhamid\\Desktop\\venvs\\ml\\Lib\\site-packages\\xgboost\\data.py:312: FutureWarning: is_sparse is deprecated and will be removed in a future version. Check `isinstance(dtype, pd.SparseDtype)` instead.\n",
            "  if is_sparse(dtype):\n",
            "c:\\Users\\abdelhamid\\Desktop\\venvs\\ml\\Lib\\site-packages\\xgboost\\data.py:314: FutureWarning: is_categorical_dtype is deprecated and will be removed in a future version. Use isinstance(dtype, CategoricalDtype) instead\n",
            "  elif is_categorical_dtype(dtype) and enable_categorical:\n",
            "c:\\Users\\abdelhamid\\Desktop\\venvs\\ml\\Lib\\site-packages\\xgboost\\data.py:345: FutureWarning: is_categorical_dtype is deprecated and will be removed in a future version. Use isinstance(dtype, CategoricalDtype) instead\n",
            "  if is_categorical_dtype(dtype)\n",
            "c:\\Users\\abdelhamid\\Desktop\\venvs\\ml\\Lib\\site-packages\\xgboost\\data.py:336: FutureWarning: is_categorical_dtype is deprecated and will be removed in a future version. Use isinstance(dtype, CategoricalDtype) instead\n",
            "  return is_int or is_bool or is_float or is_categorical_dtype(dtype)\n",
            "c:\\Users\\abdelhamid\\Desktop\\venvs\\ml\\Lib\\site-packages\\xgboost\\data.py:440: FutureWarning: is_sparse is deprecated and will be removed in a future version. Check `isinstance(dtype, pd.SparseDtype)` instead.\n",
            "  if is_sparse(data):\n"
          ]
        },
        {
          "data": {
            "text/html": [
              "<style>#sk-container-id-4 {color: black;}#sk-container-id-4 pre{padding: 0;}#sk-container-id-4 div.sk-toggleable {background-color: white;}#sk-container-id-4 label.sk-toggleable__label {cursor: pointer;display: block;width: 100%;margin-bottom: 0;padding: 0.3em;box-sizing: border-box;text-align: center;}#sk-container-id-4 label.sk-toggleable__label-arrow:before {content: \"▸\";float: left;margin-right: 0.25em;color: #696969;}#sk-container-id-4 label.sk-toggleable__label-arrow:hover:before {color: black;}#sk-container-id-4 div.sk-estimator:hover label.sk-toggleable__label-arrow:before {color: black;}#sk-container-id-4 div.sk-toggleable__content {max-height: 0;max-width: 0;overflow: hidden;text-align: left;background-color: #f0f8ff;}#sk-container-id-4 div.sk-toggleable__content pre {margin: 0.2em;color: black;border-radius: 0.25em;background-color: #f0f8ff;}#sk-container-id-4 input.sk-toggleable__control:checked~div.sk-toggleable__content {max-height: 200px;max-width: 100%;overflow: auto;}#sk-container-id-4 input.sk-toggleable__control:checked~label.sk-toggleable__label-arrow:before {content: \"▾\";}#sk-container-id-4 div.sk-estimator input.sk-toggleable__control:checked~label.sk-toggleable__label {background-color: #d4ebff;}#sk-container-id-4 div.sk-label input.sk-toggleable__control:checked~label.sk-toggleable__label {background-color: #d4ebff;}#sk-container-id-4 input.sk-hidden--visually {border: 0;clip: rect(1px 1px 1px 1px);clip: rect(1px, 1px, 1px, 1px);height: 1px;margin: -1px;overflow: hidden;padding: 0;position: absolute;width: 1px;}#sk-container-id-4 div.sk-estimator {font-family: monospace;background-color: #f0f8ff;border: 1px dotted black;border-radius: 0.25em;box-sizing: border-box;margin-bottom: 0.5em;}#sk-container-id-4 div.sk-estimator:hover {background-color: #d4ebff;}#sk-container-id-4 div.sk-parallel-item::after {content: \"\";width: 100%;border-bottom: 1px solid gray;flex-grow: 1;}#sk-container-id-4 div.sk-label:hover label.sk-toggleable__label {background-color: #d4ebff;}#sk-container-id-4 div.sk-serial::before {content: \"\";position: absolute;border-left: 1px solid gray;box-sizing: border-box;top: 0;bottom: 0;left: 50%;z-index: 0;}#sk-container-id-4 div.sk-serial {display: flex;flex-direction: column;align-items: center;background-color: white;padding-right: 0.2em;padding-left: 0.2em;position: relative;}#sk-container-id-4 div.sk-item {position: relative;z-index: 1;}#sk-container-id-4 div.sk-parallel {display: flex;align-items: stretch;justify-content: center;background-color: white;position: relative;}#sk-container-id-4 div.sk-item::before, #sk-container-id-4 div.sk-parallel-item::before {content: \"\";position: absolute;border-left: 1px solid gray;box-sizing: border-box;top: 0;bottom: 0;left: 50%;z-index: -1;}#sk-container-id-4 div.sk-parallel-item {display: flex;flex-direction: column;z-index: 1;position: relative;background-color: white;}#sk-container-id-4 div.sk-parallel-item:first-child::after {align-self: flex-end;width: 50%;}#sk-container-id-4 div.sk-parallel-item:last-child::after {align-self: flex-start;width: 50%;}#sk-container-id-4 div.sk-parallel-item:only-child::after {width: 0;}#sk-container-id-4 div.sk-dashed-wrapped {border: 1px dashed gray;margin: 0 0.4em 0.5em 0.4em;box-sizing: border-box;padding-bottom: 0.4em;background-color: white;}#sk-container-id-4 div.sk-label label {font-family: monospace;font-weight: bold;display: inline-block;line-height: 1.2em;}#sk-container-id-4 div.sk-label-container {text-align: center;}#sk-container-id-4 div.sk-container {/* jupyter's `normalize.less` sets `[hidden] { display: none; }` but bootstrap.min.css set `[hidden] { display: none !important; }` so we also need the `!important` here to be able to override the default hidden behavior on the sphinx rendered scikit-learn.org. See: https://github.com/scikit-learn/scikit-learn/issues/21755 */display: inline-block !important;position: relative;}#sk-container-id-4 div.sk-text-repr-fallback {display: none;}</style><div id=\"sk-container-id-4\" class=\"sk-top-container\"><div class=\"sk-text-repr-fallback\"><pre>XGBRegressor(base_score=None, booster=None, callbacks=None,\n",
              "             colsample_bylevel=None, colsample_bynode=None,\n",
              "             colsample_bytree=None, early_stopping_rounds=None,\n",
              "             enable_categorical=False, eval_metric=None, feature_types=None,\n",
              "             gamma=None, gpu_id=None, grow_policy=None, importance_type=None,\n",
              "             interaction_constraints=None, learning_rate=None, max_bin=None,\n",
              "             max_cat_threshold=None, max_cat_to_onehot=None,\n",
              "             max_delta_step=None, max_depth=None, max_leaves=None,\n",
              "             min_child_weight=None, missing=nan, monotone_constraints=None,\n",
              "             n_estimators=100, n_jobs=None, num_parallel_tree=None,\n",
              "             predictor=None, random_state=None, ...)</pre><b>In a Jupyter environment, please rerun this cell to show the HTML representation or trust the notebook. <br />On GitHub, the HTML representation is unable to render, please try loading this page with nbviewer.org.</b></div><div class=\"sk-container\" hidden><div class=\"sk-item\"><div class=\"sk-estimator sk-toggleable\"><input class=\"sk-toggleable__control sk-hidden--visually\" id=\"sk-estimator-id-4\" type=\"checkbox\" checked><label for=\"sk-estimator-id-4\" class=\"sk-toggleable__label sk-toggleable__label-arrow\">XGBRegressor</label><div class=\"sk-toggleable__content\"><pre>XGBRegressor(base_score=None, booster=None, callbacks=None,\n",
              "             colsample_bylevel=None, colsample_bynode=None,\n",
              "             colsample_bytree=None, early_stopping_rounds=None,\n",
              "             enable_categorical=False, eval_metric=None, feature_types=None,\n",
              "             gamma=None, gpu_id=None, grow_policy=None, importance_type=None,\n",
              "             interaction_constraints=None, learning_rate=None, max_bin=None,\n",
              "             max_cat_threshold=None, max_cat_to_onehot=None,\n",
              "             max_delta_step=None, max_depth=None, max_leaves=None,\n",
              "             min_child_weight=None, missing=nan, monotone_constraints=None,\n",
              "             n_estimators=100, n_jobs=None, num_parallel_tree=None,\n",
              "             predictor=None, random_state=None, ...)</pre></div></div></div></div></div>"
            ],
            "text/plain": [
              "XGBRegressor(base_score=None, booster=None, callbacks=None,\n",
              "             colsample_bylevel=None, colsample_bynode=None,\n",
              "             colsample_bytree=None, early_stopping_rounds=None,\n",
              "             enable_categorical=False, eval_metric=None, feature_types=None,\n",
              "             gamma=None, gpu_id=None, grow_policy=None, importance_type=None,\n",
              "             interaction_constraints=None, learning_rate=None, max_bin=None,\n",
              "             max_cat_threshold=None, max_cat_to_onehot=None,\n",
              "             max_delta_step=None, max_depth=None, max_leaves=None,\n",
              "             min_child_weight=None, missing=nan, monotone_constraints=None,\n",
              "             n_estimators=100, n_jobs=None, num_parallel_tree=None,\n",
              "             predictor=None, random_state=None, ...)"
            ]
          },
          "execution_count": 35,
          "metadata": {},
          "output_type": "execute_result"
        }
      ],
      "source": [
        "model = xgb.XGBRegressor()\n",
        "model.fit(train_data[features], train_data[target])"
      ]
    },
    {
      "cell_type": "markdown",
      "metadata": {},
      "source": []
    },
    {
      "cell_type": "code",
      "execution_count": 36,
      "metadata": {
        "colab": {
          "base_uri": "https://localhost:8080/"
        },
        "id": "BHhiErYecNrH",
        "outputId": "f61f4361-5555-4ce8-c3d2-1f5d44dc1551"
      },
      "outputs": [
        {
          "name": "stdout",
          "output_type": "stream",
          "text": [
            "model predictions :\n",
            "[0.89506745 0.895475   0.89449024 ... 0.891298   0.891298   0.89080805]\n"
          ]
        },
        {
          "name": "stderr",
          "output_type": "stream",
          "text": [
            "c:\\Users\\abdelhamid\\Desktop\\venvs\\ml\\Lib\\site-packages\\xgboost\\data.py:312: FutureWarning: is_sparse is deprecated and will be removed in a future version. Check `isinstance(dtype, pd.SparseDtype)` instead.\n",
            "  if is_sparse(dtype):\n",
            "c:\\Users\\abdelhamid\\Desktop\\venvs\\ml\\Lib\\site-packages\\xgboost\\data.py:314: FutureWarning: is_categorical_dtype is deprecated and will be removed in a future version. Use isinstance(dtype, CategoricalDtype) instead\n",
            "  elif is_categorical_dtype(dtype) and enable_categorical:\n",
            "c:\\Users\\abdelhamid\\Desktop\\venvs\\ml\\Lib\\site-packages\\xgboost\\data.py:345: FutureWarning: is_categorical_dtype is deprecated and will be removed in a future version. Use isinstance(dtype, CategoricalDtype) instead\n",
            "  if is_categorical_dtype(dtype)\n",
            "c:\\Users\\abdelhamid\\Desktop\\venvs\\ml\\Lib\\site-packages\\xgboost\\data.py:336: FutureWarning: is_categorical_dtype is deprecated and will be removed in a future version. Use isinstance(dtype, CategoricalDtype) instead\n",
            "  return is_int or is_bool or is_float or is_categorical_dtype(dtype)\n"
          ]
        }
      ],
      "source": [
        "predictions = model.predict(test_data[features])\n",
        "print('model predictions :')\n",
        "print(predictions)"
      ]
    },
    {
      "cell_type": "code",
      "execution_count": 37,
      "metadata": {
        "colab": {
          "base_uri": "https://localhost:8080/"
        },
        "id": "Mk1x6379fhkn",
        "outputId": "29096416-238c-4353-92ae-feb2bce329a6"
      },
      "outputs": [
        {
          "name": "stdout",
          "output_type": "stream",
          "text": [
            "20160    0.89499\n",
            "20161    0.89546\n",
            "20162    0.89455\n",
            "20163    0.89540\n",
            "20164    0.89529\n",
            "          ...   \n",
            "28795    0.89100\n",
            "28796    0.89100\n",
            "28797    0.89115\n",
            "28798    0.89120\n",
            "28799    0.89100\n",
            "Name: Close, Length: 8640, dtype: float64\n"
          ]
        }
      ],
      "source": [
        "print(test_data[target])"
      ]
    },
    {
      "cell_type": "code",
      "execution_count": 38,
      "metadata": {
        "colab": {
          "base_uri": "https://localhost:8080/"
        },
        "id": "uGF4Xd9ygE7b",
        "outputId": "ac5194ed-2601-42eb-e3cf-fb262851a633"
      },
      "outputs": [
        {
          "name": "stdout",
          "output_type": "stream",
          "text": [
            "0.9995025134952643\n"
          ]
        },
        {
          "name": "stderr",
          "output_type": "stream",
          "text": [
            "c:\\Users\\abdelhamid\\Desktop\\venvs\\ml\\Lib\\site-packages\\xgboost\\data.py:312: FutureWarning: is_sparse is deprecated and will be removed in a future version. Check `isinstance(dtype, pd.SparseDtype)` instead.\n",
            "  if is_sparse(dtype):\n",
            "c:\\Users\\abdelhamid\\Desktop\\venvs\\ml\\Lib\\site-packages\\xgboost\\data.py:314: FutureWarning: is_categorical_dtype is deprecated and will be removed in a future version. Use isinstance(dtype, CategoricalDtype) instead\n",
            "  elif is_categorical_dtype(dtype) and enable_categorical:\n",
            "c:\\Users\\abdelhamid\\Desktop\\venvs\\ml\\Lib\\site-packages\\xgboost\\data.py:345: FutureWarning: is_categorical_dtype is deprecated and will be removed in a future version. Use isinstance(dtype, CategoricalDtype) instead\n",
            "  if is_categorical_dtype(dtype)\n",
            "c:\\Users\\abdelhamid\\Desktop\\venvs\\ml\\Lib\\site-packages\\xgboost\\data.py:336: FutureWarning: is_categorical_dtype is deprecated and will be removed in a future version. Use isinstance(dtype, CategoricalDtype) instead\n",
            "  return is_int or is_bool or is_float or is_categorical_dtype(dtype)\n"
          ]
        }
      ],
      "source": [
        "#show the model accuracy\n",
        "accuracy = model.score(test_data[features], test_data[target])\n",
        "print(accuracy)"
      ]
    },
    {
      "cell_type": "code",
      "execution_count": 39,
      "metadata": {
        "colab": {
          "base_uri": "https://localhost:8080/",
          "height": 449
        },
        "id": "WysU2-GSvd9u",
        "outputId": "c0fd6113-92cf-4da7-9523-2c445edf9200"
      },
      "outputs": [
        {
          "data": {
            "text/plain": [
              "<function matplotlib.pyplot.show(close=None, block=None)>"
            ]
          },
          "execution_count": 39,
          "metadata": {},
          "output_type": "execute_result"
        },
        {
          "data": {
            "image/png": "[encoded data removed]",
            "text/plain": [
              "<Figure size 640x480 with 1 Axes>"
            ]
          },
          "metadata": {},
          "output_type": "display_data"
        }
      ],
      "source": [
        "# ploing the predictions\n",
        "close = data['Close']\n",
        "plt.plot(data['Close'], label = 'Close')\n",
        "plt.plot(test_data[target].index , predictions , label = 'predictions')\n",
        "plt.legend()\n",
        "plt.show"
      ]
    },
    {
      "cell_type": "code",
      "execution_count": 40,
      "metadata": {},
      "outputs": [],
      "source": [
        "model.save_model('forexpredict.model')"
      ]
    }
  ],
  "metadata": {
    "colab": {
      "provenance": []
    },
    "kernelspec": {
      "display_name": "Python 3",
      "name": "python3"
    },
    "language_info": {
      "codemirror_mode": {
        "name": "ipython",
        "version": 3
      },
      "file_extension": ".py",
      "mimetype": "text/x-python",
      "name": "python",
      "nbconvert_exporter": "python",
      "pygments_lexer": "ipython3",
      "version": "3.11.0b4"
    }
  },
  "nbformat": 4,
  "nbformat_minor": 0
}
