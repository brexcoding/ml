{
 "cells": [
  {
   "cell_type": "code",
   "execution_count": 43,
   "metadata": {},
   "outputs": [],
   "source": [
    "import math\n",
    "import numpy as np\n",
    "import pandas as pd\n",
    "from sklearn.preprocessing import MinMaxScaler\n",
    "from keras.models import Sequential , load_model\n",
    "from keras.layers import Dense, LSTM ,Dropout\n",
    "\n",
    "data = pd.read_csv('data\\\\EURUSD_p2.csv')\n",
    "# Extract OHLC data\n",
    "features = data[['Open','High', 'Low','volume','spread', 'Close']]\n",
    "features\n",
    "\n",
    "# # Normalize OHLC data\n",
    "scaler = MinMaxScaler(feature_range=(0, 1))\n",
    "normalized_data = scaler.fit_transform(features)\n",
    "\n"
   ]
  },
  {
   "cell_type": "code",
   "execution_count": 44,
   "metadata": {},
   "outputs": [],
   "source": [
    "\n",
    "# Create sequences\n",
    "sequences = []\n",
    "for i in range(20, len(normalized_data)):\n",
    "    sequences.append(normalized_data[i - 20:i])\n",
    "\n",
    "# Convert sequences to numpy array\n",
    "sequences = np.array(sequences)\n"
   ]
  },
  {
   "cell_type": "code",
   "execution_count": 45,
   "metadata": {},
   "outputs": [
    {
     "name": "stdout",
     "output_type": "stream",
     "text": [
      "(12355, 20, 5)\n",
      "(12355, 20, 1)\n"
     ]
    }
   ],
   "source": [
    "\n",
    "# Separate features and targets\n",
    "x_train = sequences[:, :, :]  # Features ,the shape is 3d (number_of_samples, timesteps, features)\n",
    "y_train = sequences[:, :, -1:]  # Targets\n",
    "print(x_train.shape)\n",
    "print(y_train.shape)\n",
    "\n"
   ]
  },
  {
   "cell_type": "code",
   "execution_count": 46,
   "metadata": {},
   "outputs": [],
   "source": [
    "# ## Build the LSTM model\n",
    "# model = Sequential()\n",
    "# model.add(LSTM(500, return_sequences=True, input_shape=(x_train.shape[1], 5)))\n",
    "# model.add(Dropout(0.2))\n",
    "# model.add(LSTM(100 , activation=\"relu\")  )\n",
    "# model.add(Dropout(0.2))\n",
    "# model.add(Dense(60))\n",
    "\n",
    "model = Sequential()\n",
    "model.add(LSTM(500, return_sequences=True, input_shape=(x_train.shape[1], 5)))\n",
    "model.add(Dropout(0.2))\n",
    "model.add(LSTM(50, return_sequences=True , activation=\"relu\")) # Add another LSTM layer\n",
    "model.add(Dropout(0.2))\n",
    "model.add(LSTM(50, return_sequences=False))\n",
    "model.add(Dense(20))\n",
    "\n",
    "# from tensorflow.keras.layers import Bidirectional\n",
    "\n",
    "# model = Sequential()\n",
    "# model.add(Bidirectional(LSTM(500, return_sequences=True), input_shape=(x_train.shape[1], 3)))\n",
    "# model.add(Bidirectional(LSTM(50, return_sequences=False)))\n",
    "# model.add(Dropout(0.2))\n",
    "# model.add(Dense(20))\n",
    "\n",
    "\n"
   ]
  },
  {
   "cell_type": "code",
   "execution_count": 47,
   "metadata": {},
   "outputs": [
    {
     "name": "stdout",
     "output_type": "stream",
     "text": [
      "Epoch 1/22\n",
      "1236/1236 [==============================] - 486s 382ms/step - loss: 0.0050\n",
      "Epoch 2/22\n",
      "1236/1236 [==============================] - 475s 384ms/step - loss: 0.0013\n",
      "Epoch 3/22\n",
      "1236/1236 [==============================] - 467s 378ms/step - loss: 8.1008e-04\n",
      "Epoch 4/22\n",
      "1236/1236 [==============================] - 458s 370ms/step - loss: 5.7094e-04\n",
      "Epoch 5/22\n",
      "1236/1236 [==============================] - 391s 317ms/step - loss: 4.4924e-04\n",
      "Epoch 6/22\n",
      "1236/1236 [==============================] - 395s 319ms/step - loss: 3.6490e-04\n",
      "Epoch 7/22\n",
      "1236/1236 [==============================] - 391s 317ms/step - loss: 2.8907e-04\n",
      "Epoch 8/22\n",
      "1236/1236 [==============================] - 393s 318ms/step - loss: 2.6798e-04\n",
      "Epoch 9/22\n",
      "1236/1236 [==============================] - 392s 317ms/step - loss: 2.7143e-04\n",
      "Epoch 10/22\n",
      "1236/1236 [==============================] - 394s 319ms/step - loss: 2.4809e-04\n",
      "Epoch 11/22\n",
      "1236/1236 [==============================] - 396s 320ms/step - loss: 2.4697e-04\n",
      "Epoch 12/22\n",
      "1236/1236 [==============================] - 397s 321ms/step - loss: 2.3326e-04\n",
      "Epoch 13/22\n",
      "1236/1236 [==============================] - 396s 321ms/step - loss: 2.3394e-04\n",
      "Epoch 14/22\n",
      "1236/1236 [==============================] - 395s 320ms/step - loss: 2.2755e-04\n",
      "Epoch 15/22\n",
      "1236/1236 [==============================] - 395s 320ms/step - loss: 2.2226e-04\n",
      "Epoch 16/22\n",
      "1236/1236 [==============================] - 395s 319ms/step - loss: 2.2489e-04\n",
      "Epoch 17/22\n",
      "1236/1236 [==============================] - 396s 320ms/step - loss: 2.2027e-04\n",
      "Epoch 18/22\n",
      "1236/1236 [==============================] - 395s 319ms/step - loss: 2.1994e-04\n",
      "Epoch 19/22\n",
      "1236/1236 [==============================] - 393s 318ms/step - loss: 2.1389e-04\n",
      "Epoch 20/22\n",
      "1236/1236 [==============================] - 395s 319ms/step - loss: 2.1432e-04\n",
      "Epoch 21/22\n",
      "1236/1236 [==============================] - 396s 320ms/step - loss: 2.0810e-04\n",
      "Epoch 22/22\n",
      "1236/1236 [==============================] - 349s 282ms/step - loss: 2.1366e-04\n"
     ]
    },
    {
     "data": {
      "text/plain": [
       "<keras.src.callbacks.History at 0x29fb6fc03d0>"
      ]
     },
     "execution_count": 47,
     "metadata": {},
     "output_type": "execute_result"
    }
   ],
   "source": [
    "# Compile the model\n",
    "model.compile(optimizer='adam', loss='mse')\n",
    "# Train the model\n",
    "model.fit(x_train, y_train, batch_size=10, epochs=22) #  loss: 6.9001e-04\n"
   ]
  },
  {
   "cell_type": "code",
   "execution_count": 48,
   "metadata": {},
   "outputs": [
    {
     "name": "stderr",
     "output_type": "stream",
     "text": [
      "c:\\Users\\abdel\\Desktop\\venvs\\ml\\Lib\\site-packages\\keras\\src\\engine\\training.py:3103: UserWarning: You are saving your model as an HDF5 file via `model.save()`. This file format is considered legacy. We recommend using instead the native Keras format, e.g. `model.save('my_model.keras')`.\n",
      "  saving_api.save_model(\n"
     ]
    }
   ],
   "source": [
    "# in this code i used all the data for train \n",
    "model.save('hello3.h5')"
   ]
  }
 ],
 "metadata": {
  "kernelspec": {
   "display_name": "ml",
   "language": "python",
   "name": "python3"
  },
  "language_info": {
   "codemirror_mode": {
    "name": "ipython",
    "version": 3
   },
   "file_extension": ".py",
   "mimetype": "text/x-python",
   "name": "python",
   "nbconvert_exporter": "python",
   "pygments_lexer": "ipython3",
   "version": "3.11.4"
  }
 },
 "nbformat": 4,
 "nbformat_minor": 2
}
