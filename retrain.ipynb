{
 "cells": [
  {
   "cell_type": "code",
   "execution_count": 1,
   "metadata": {},
   "outputs": [
    {
     "name": "stdout",
     "output_type": "stream",
     "text": [
      "Epoch 1/3\n",
      "5440/5440 [==============================] - 2041s 375ms/step - loss: 1.1555e-04\n",
      "Epoch 2/3\n",
      "5440/5440 [==============================] - 1986s 365ms/step - loss: 1.1218e-04\n",
      "Epoch 3/3\n",
      "5440/5440 [==============================] - 1990s 366ms/step - loss: 1.1244e-04\n"
     ]
    },
    {
     "name": "stderr",
     "output_type": "stream",
     "text": [
      "c:\\Users\\abdel\\Desktop\\venvs\\ml\\Lib\\site-packages\\keras\\src\\engine\\training.py:3103: UserWarning: You are saving your model as an HDF5 file via `model.save()`. This file format is considered legacy. We recommend using instead the native Keras format, e.g. `model.save('my_model.keras')`.\n",
      "  saving_api.save_model(\n"
     ]
    }
   ],
   "source": [
    "import math\n",
    "import numpy as np\n",
    "import pandas as pd\n",
    "from sklearn.preprocessing import MinMaxScaler\n",
    "from keras.models import Sequential , load_model\n",
    "from keras.layers import Dense, LSTM\n",
    "\n",
    "data = pd.read_csv('data\\\\EURUSD_p8.csv')\n",
    "# Extract OHLC data\n",
    "features = data[['Open', 'High', 'Low','volume','spread', 'Close']]\n",
    "features\n",
    "# # Normalize OHLC data\n",
    "scaler = MinMaxScaler(feature_range=(0, 1))\n",
    "normalized_data = scaler.fit_transform(features)\n",
    "\n",
    "\n",
    "# Create sequences\n",
    "sequences = []\n",
    "for i in range(60, len(normalized_data)):\n",
    "    sequences.append(normalized_data[i - 60:i])\n",
    "\n",
    "# Convert sequences to numpy array\n",
    "sequences = np.array(sequences)\n",
    "\n",
    "# Separate features and targets\n",
    "x_train = sequences[:, :, :]  # Features ,the shape is 3d (number_of_samples, timesteps, features)\n",
    "y_train = sequences[:, :, -1:]  # Targets\n",
    "\n",
    "model = load_model('the8features_model4.h5')\n",
    "model.fit(x_train, y_train, batch_size=1, epochs=3)\n",
    "model.save('the8features_model5.h5')\n"
   ]
  }
 ],
 "metadata": {
  "kernelspec": {
   "display_name": "ml",
   "language": "python",
   "name": "python3"
  },
  "language_info": {
   "codemirror_mode": {
    "name": "ipython",
    "version": 3
   },
   "file_extension": ".py",
   "mimetype": "text/x-python",
   "name": "python",
   "nbconvert_exporter": "python",
   "pygments_lexer": "ipython3",
   "version": "3.11.4"
  }
 },
 "nbformat": 4,
 "nbformat_minor": 2
}
