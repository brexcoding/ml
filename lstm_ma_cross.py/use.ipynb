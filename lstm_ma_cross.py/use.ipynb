{
 "cells": [
  {
   "cell_type": "code",
   "execution_count": 7,
   "metadata": {},
   "outputs": [],
   "source": [
    "import pandas as pd \n",
    "import numpy as np\n",
    "import math\n",
    "from sklearn.preprocessing import MinMaxScaler\n",
    "from keras.models import Sequential\n",
    "from keras.layers import Dense  ,LSTM\n",
    "import tensorflow as tf\n",
    "import matplotlib.pyplot as plt\n",
    "plt.style.use('fivethirtyeight')\n"
   ]
  },
  {
   "cell_type": "code",
   "execution_count": 8,
   "metadata": {},
   "outputs": [],
   "source": [
    "# load model from a HDF5 file\n",
    "model = tf.keras.models.load_model('my_model.h5', compile=False)\n"
   ]
  },
  {
   "cell_type": "code",
   "execution_count": 9,
   "metadata": {},
   "outputs": [
    {
     "name": "stdout",
     "output_type": "stream",
     "text": [
      "1/1 [==============================] - 2s 2s/step\n",
      "[[1.0671906]]\n"
     ]
    }
   ],
   "source": [
    "\n",
    "# using it to predict the next price\n",
    "# we need to give the model a new data \n",
    "data = pd.read_csv('EURUSD')\n",
    "data = data.filter(['Close'])\n",
    "# cnvert the data frame into an array\n",
    "# get the last 60 close prices\n",
    "\n",
    "last_60_close_prices = data[-60:].values\n",
    "# scale the data to be values between 0 and 1\n",
    "# defining the scaler\n",
    "scaler = MinMaxScaler(feature_range=(0 ,1 ))\n",
    "last_60_close_prices = scaler.fit_transform(last_60_close_prices)\n",
    "last_60_close_prices_scaled = scaler.transform(last_60_close_prices)\n",
    "#create an empty list \n",
    "X_test = []\n",
    "# append the past 60 close prices\n",
    "X_test.append(last_60_close_prices_scaled)\n",
    "# convert the x_test dataset to a numpy array \n",
    "X_test = np.array(X_test)\n",
    "# reshape the data\n",
    "X_test = np.reshape(X_test,(X_test.shape[0] , X_test.shape[1], 1 ))\n",
    "#get the predicted scaled price\n",
    "pred_price = model.predict(X_test)\n",
    "# undo scaling \n",
    "pred_price = scaler.inverse_transform(pred_price)\n",
    "print(pred_price)"
   ]
  },
  {
   "cell_type": "code",
   "execution_count": null,
   "metadata": {},
   "outputs": [],
   "source": []
  }
 ],
 "metadata": {
  "kernelspec": {
   "display_name": "ml",
   "language": "python",
   "name": "python3"
  },
  "language_info": {
   "codemirror_mode": {
    "name": "ipython",
    "version": 3
   },
   "file_extension": ".py",
   "mimetype": "text/x-python",
   "name": "python",
   "nbconvert_exporter": "python",
   "pygments_lexer": "ipython3",
   "version": "3.11.0"
  },
  "orig_nbformat": 4
 },
 "nbformat": 4,
 "nbformat_minor": 2
}
