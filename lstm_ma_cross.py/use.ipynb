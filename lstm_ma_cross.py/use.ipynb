{
 "cells": [
  {
   "cell_type": "code",
   "execution_count": 5,
   "metadata": {},
   "outputs": [],
   "source": [
    "import pandas as pd \n",
    "import numpy as np\n",
    "import math\n",
    "from sklearn.preprocessing import MinMaxScaler\n",
    "from keras.models import Sequential ,load_model\n",
    "from keras.layers import Dense  ,LSTM\n",
    "import tensorflow as tf\n",
    "import matplotlib.pyplot as plt\n",
    "plt.style.use('fivethirtyeight')\n"
   ]
  },
  {
   "cell_type": "code",
   "execution_count": 6,
   "metadata": {},
   "outputs": [
    {
     "ename": "ValueError",
     "evalue": "Layer 'lstm_cell' expected 3 variables, but received 0 variables during loading. Expected: ['lstm/lstm_cell/kernel:0', 'lstm/lstm_cell/recurrent_kernel:0', 'lstm/lstm_cell/bias:0']",
     "output_type": "error",
     "traceback": [
      "\u001b[1;31m---------------------------------------------------------------------------\u001b[0m",
      "\u001b[1;31mValueError\u001b[0m                                Traceback (most recent call last)",
      "\u001b[1;32mc:\\Users\\abdelhamid\\Desktop\\venvs\\ml\\root\\lstm_ma_cross.py\\use.ipynb Cell 2\u001b[0m line \u001b[0;36m1\n\u001b[1;32m----> <a href='vscode-notebook-cell:/c%3A/Users/abdelhamid/Desktop/venvs/ml/root/lstm_ma_cross.py/use.ipynb#W1sZmlsZQ%3D%3D?line=0'>1</a>\u001b[0m model \u001b[39m=\u001b[39m load_model(\u001b[39m'\u001b[39;49m\u001b[39mclosing_model.keras\u001b[39;49m\u001b[39m'\u001b[39;49m)\n",
      "File \u001b[1;32mc:\\Users\\abdelhamid\\Desktop\\venvs\\ml\\Lib\\site-packages\\keras\\src\\saving\\saving_api.py:230\u001b[0m, in \u001b[0;36mload_model\u001b[1;34m(filepath, custom_objects, compile, safe_mode, **kwargs)\u001b[0m\n\u001b[0;32m    225\u001b[0m     \u001b[39mif\u001b[39;00m kwargs:\n\u001b[0;32m    226\u001b[0m         \u001b[39mraise\u001b[39;00m \u001b[39mValueError\u001b[39;00m(\n\u001b[0;32m    227\u001b[0m             \u001b[39m\"\u001b[39m\u001b[39mThe following argument(s) are not supported \u001b[39m\u001b[39m\"\u001b[39m\n\u001b[0;32m    228\u001b[0m             \u001b[39mf\u001b[39m\u001b[39m\"\u001b[39m\u001b[39mwith the native Keras format: \u001b[39m\u001b[39m{\u001b[39;00m\u001b[39mlist\u001b[39m(kwargs\u001b[39m.\u001b[39mkeys())\u001b[39m}\u001b[39;00m\u001b[39m\"\u001b[39m\n\u001b[0;32m    229\u001b[0m         )\n\u001b[1;32m--> 230\u001b[0m     \u001b[39mreturn\u001b[39;00m saving_lib\u001b[39m.\u001b[39;49mload_model(\n\u001b[0;32m    231\u001b[0m         filepath,\n\u001b[0;32m    232\u001b[0m         custom_objects\u001b[39m=\u001b[39;49mcustom_objects,\n\u001b[0;32m    233\u001b[0m         \u001b[39mcompile\u001b[39;49m\u001b[39m=\u001b[39;49m\u001b[39mcompile\u001b[39;49m,\n\u001b[0;32m    234\u001b[0m         safe_mode\u001b[39m=\u001b[39;49msafe_mode,\n\u001b[0;32m    235\u001b[0m     )\n\u001b[0;32m    237\u001b[0m \u001b[39m# Legacy case.\u001b[39;00m\n\u001b[0;32m    238\u001b[0m \u001b[39mreturn\u001b[39;00m legacy_sm_saving_lib\u001b[39m.\u001b[39mload_model(\n\u001b[0;32m    239\u001b[0m     filepath, custom_objects\u001b[39m=\u001b[39mcustom_objects, \u001b[39mcompile\u001b[39m\u001b[39m=\u001b[39m\u001b[39mcompile\u001b[39m, \u001b[39m*\u001b[39m\u001b[39m*\u001b[39mkwargs\n\u001b[0;32m    240\u001b[0m )\n",
      "File \u001b[1;32mc:\\Users\\abdelhamid\\Desktop\\venvs\\ml\\Lib\\site-packages\\keras\\src\\saving\\saving_lib.py:275\u001b[0m, in \u001b[0;36mload_model\u001b[1;34m(filepath, custom_objects, compile, safe_mode)\u001b[0m\n\u001b[0;32m    272\u001b[0m             asset_store\u001b[39m.\u001b[39mclose()\n\u001b[0;32m    274\u001b[0m \u001b[39mexcept\u001b[39;00m \u001b[39mException\u001b[39;00m \u001b[39mas\u001b[39;00m e:\n\u001b[1;32m--> 275\u001b[0m     \u001b[39mraise\u001b[39;00m e\n\u001b[0;32m    276\u001b[0m \u001b[39melse\u001b[39;00m:\n\u001b[0;32m    277\u001b[0m     \u001b[39mreturn\u001b[39;00m model\n",
      "File \u001b[1;32mc:\\Users\\abdelhamid\\Desktop\\venvs\\ml\\Lib\\site-packages\\keras\\src\\saving\\saving_lib.py:263\u001b[0m, in \u001b[0;36mload_model\u001b[1;34m(filepath, custom_objects, compile, safe_mode)\u001b[0m\n\u001b[0;32m    260\u001b[0m \u001b[39melse\u001b[39;00m:\n\u001b[0;32m    261\u001b[0m     asset_store \u001b[39m=\u001b[39m \u001b[39mNone\u001b[39;00m\n\u001b[1;32m--> 263\u001b[0m _load_state(\n\u001b[0;32m    264\u001b[0m     model,\n\u001b[0;32m    265\u001b[0m     weights_store\u001b[39m=\u001b[39;49mweights_store,\n\u001b[0;32m    266\u001b[0m     assets_store\u001b[39m=\u001b[39;49masset_store,\n\u001b[0;32m    267\u001b[0m     inner_path\u001b[39m=\u001b[39;49m\u001b[39m\"\u001b[39;49m\u001b[39m\"\u001b[39;49m,\n\u001b[0;32m    268\u001b[0m     visited_trackables\u001b[39m=\u001b[39;49m\u001b[39mset\u001b[39;49m(),\n\u001b[0;32m    269\u001b[0m )\n\u001b[0;32m    270\u001b[0m weights_store\u001b[39m.\u001b[39mclose()\n\u001b[0;32m    271\u001b[0m \u001b[39mif\u001b[39;00m asset_store:\n",
      "File \u001b[1;32mc:\\Users\\abdelhamid\\Desktop\\venvs\\ml\\Lib\\site-packages\\keras\\src\\saving\\saving_lib.py:456\u001b[0m, in \u001b[0;36m_load_state\u001b[1;34m(trackable, weights_store, assets_store, inner_path, skip_mismatch, visited_trackables)\u001b[0m\n\u001b[0;32m    447\u001b[0m     _load_state(\n\u001b[0;32m    448\u001b[0m         child_obj,\n\u001b[0;32m    449\u001b[0m         weights_store,\n\u001b[1;32m   (...)\u001b[0m\n\u001b[0;32m    453\u001b[0m         visited_trackables\u001b[39m=\u001b[39mvisited_trackables,\n\u001b[0;32m    454\u001b[0m     )\n\u001b[0;32m    455\u001b[0m \u001b[39melif\u001b[39;00m \u001b[39misinstance\u001b[39m(child_obj, (\u001b[39mlist\u001b[39m, \u001b[39mdict\u001b[39m, \u001b[39mtuple\u001b[39m, \u001b[39mset\u001b[39m)):\n\u001b[1;32m--> 456\u001b[0m     _load_container_state(\n\u001b[0;32m    457\u001b[0m         child_obj,\n\u001b[0;32m    458\u001b[0m         weights_store,\n\u001b[0;32m    459\u001b[0m         assets_store,\n\u001b[0;32m    460\u001b[0m         inner_path\u001b[39m=\u001b[39;49mtf\u001b[39m.\u001b[39;49mio\u001b[39m.\u001b[39;49mgfile\u001b[39m.\u001b[39;49mjoin(inner_path, child_attr),\n\u001b[0;32m    461\u001b[0m         skip_mismatch\u001b[39m=\u001b[39;49mskip_mismatch,\n\u001b[0;32m    462\u001b[0m         visited_trackables\u001b[39m=\u001b[39;49mvisited_trackables,\n\u001b[0;32m    463\u001b[0m     )\n",
      "File \u001b[1;32mc:\\Users\\abdelhamid\\Desktop\\venvs\\ml\\Lib\\site-packages\\keras\\src\\saving\\saving_lib.py:513\u001b[0m, in \u001b[0;36m_load_container_state\u001b[1;34m(container, weights_store, assets_store, inner_path, skip_mismatch, visited_trackables)\u001b[0m\n\u001b[0;32m    511\u001b[0m \u001b[39melse\u001b[39;00m:\n\u001b[0;32m    512\u001b[0m     used_names[name] \u001b[39m=\u001b[39m \u001b[39m0\u001b[39m\n\u001b[1;32m--> 513\u001b[0m _load_state(\n\u001b[0;32m    514\u001b[0m     trackable,\n\u001b[0;32m    515\u001b[0m     weights_store,\n\u001b[0;32m    516\u001b[0m     assets_store,\n\u001b[0;32m    517\u001b[0m     inner_path\u001b[39m=\u001b[39;49mtf\u001b[39m.\u001b[39;49mio\u001b[39m.\u001b[39;49mgfile\u001b[39m.\u001b[39;49mjoin(inner_path, name),\n\u001b[0;32m    518\u001b[0m     skip_mismatch\u001b[39m=\u001b[39;49mskip_mismatch,\n\u001b[0;32m    519\u001b[0m     visited_trackables\u001b[39m=\u001b[39;49mvisited_trackables,\n\u001b[0;32m    520\u001b[0m )\n",
      "File \u001b[1;32mc:\\Users\\abdelhamid\\Desktop\\venvs\\ml\\Lib\\site-packages\\keras\\src\\saving\\saving_lib.py:447\u001b[0m, in \u001b[0;36m_load_state\u001b[1;34m(trackable, weights_store, assets_store, inner_path, skip_mismatch, visited_trackables)\u001b[0m\n\u001b[0;32m    445\u001b[0m \u001b[39mfor\u001b[39;00m child_attr, child_obj \u001b[39min\u001b[39;00m _walk_trackable(trackable):\n\u001b[0;32m    446\u001b[0m     \u001b[39mif\u001b[39;00m _is_keras_trackable(child_obj):\n\u001b[1;32m--> 447\u001b[0m         _load_state(\n\u001b[0;32m    448\u001b[0m             child_obj,\n\u001b[0;32m    449\u001b[0m             weights_store,\n\u001b[0;32m    450\u001b[0m             assets_store,\n\u001b[0;32m    451\u001b[0m             inner_path\u001b[39m=\u001b[39;49mtf\u001b[39m.\u001b[39;49mio\u001b[39m.\u001b[39;49mgfile\u001b[39m.\u001b[39;49mjoin(inner_path, child_attr),\n\u001b[0;32m    452\u001b[0m             skip_mismatch\u001b[39m=\u001b[39;49mskip_mismatch,\n\u001b[0;32m    453\u001b[0m             visited_trackables\u001b[39m=\u001b[39;49mvisited_trackables,\n\u001b[0;32m    454\u001b[0m         )\n\u001b[0;32m    455\u001b[0m     \u001b[39melif\u001b[39;00m \u001b[39misinstance\u001b[39m(child_obj, (\u001b[39mlist\u001b[39m, \u001b[39mdict\u001b[39m, \u001b[39mtuple\u001b[39m, \u001b[39mset\u001b[39m)):\n\u001b[0;32m    456\u001b[0m         _load_container_state(\n\u001b[0;32m    457\u001b[0m             child_obj,\n\u001b[0;32m    458\u001b[0m             weights_store,\n\u001b[1;32m   (...)\u001b[0m\n\u001b[0;32m    462\u001b[0m             visited_trackables\u001b[39m=\u001b[39mvisited_trackables,\n\u001b[0;32m    463\u001b[0m         )\n",
      "File \u001b[1;32mc:\\Users\\abdelhamid\\Desktop\\venvs\\ml\\Lib\\site-packages\\keras\\src\\saving\\saving_lib.py:425\u001b[0m, in \u001b[0;36m_load_state\u001b[1;34m(trackable, weights_store, assets_store, inner_path, skip_mismatch, visited_trackables)\u001b[0m\n\u001b[0;32m    418\u001b[0m             warnings\u001b[39m.\u001b[39mwarn(\n\u001b[0;32m    419\u001b[0m                 \u001b[39mf\u001b[39m\u001b[39m\"\u001b[39m\u001b[39mCould not load weights in object \u001b[39m\u001b[39m{\u001b[39;00mtrackable\u001b[39m}\u001b[39;00m\u001b[39m. \u001b[39m\u001b[39m\"\u001b[39m\n\u001b[0;32m    420\u001b[0m                 \u001b[39m\"\u001b[39m\u001b[39mSkipping object. \u001b[39m\u001b[39m\"\u001b[39m\n\u001b[0;32m    421\u001b[0m                 \u001b[39mf\u001b[39m\u001b[39m\"\u001b[39m\u001b[39mException encountered: \u001b[39m\u001b[39m{\u001b[39;00me\u001b[39m}\u001b[39;00m\u001b[39m\"\u001b[39m,\n\u001b[0;32m    422\u001b[0m                 stacklevel\u001b[39m=\u001b[39m\u001b[39m2\u001b[39m,\n\u001b[0;32m    423\u001b[0m             )\n\u001b[0;32m    424\u001b[0m     \u001b[39melse\u001b[39;00m:\n\u001b[1;32m--> 425\u001b[0m         trackable\u001b[39m.\u001b[39;49mload_own_variables(weights_store\u001b[39m.\u001b[39;49mget(inner_path))\n\u001b[0;32m    427\u001b[0m \u001b[39mif\u001b[39;00m \u001b[39mhasattr\u001b[39m(trackable, \u001b[39m\"\u001b[39m\u001b[39mload_assets\u001b[39m\u001b[39m\"\u001b[39m) \u001b[39mand\u001b[39;00m assets_store:\n\u001b[0;32m    428\u001b[0m     \u001b[39mif\u001b[39;00m skip_mismatch:\n",
      "File \u001b[1;32mc:\\Users\\abdelhamid\\Desktop\\venvs\\ml\\Lib\\site-packages\\keras\\src\\engine\\base_layer.py:3539\u001b[0m, in \u001b[0;36mLayer.load_own_variables\u001b[1;34m(self, store)\u001b[0m\n\u001b[0;32m   3537\u001b[0m all_vars \u001b[39m=\u001b[39m \u001b[39mself\u001b[39m\u001b[39m.\u001b[39m_trainable_weights \u001b[39m+\u001b[39m \u001b[39mself\u001b[39m\u001b[39m.\u001b[39m_non_trainable_weights\n\u001b[0;32m   3538\u001b[0m \u001b[39mif\u001b[39;00m \u001b[39mlen\u001b[39m(store\u001b[39m.\u001b[39mkeys()) \u001b[39m!=\u001b[39m \u001b[39mlen\u001b[39m(all_vars):\n\u001b[1;32m-> 3539\u001b[0m     \u001b[39mraise\u001b[39;00m \u001b[39mValueError\u001b[39;00m(\n\u001b[0;32m   3540\u001b[0m         \u001b[39mf\u001b[39m\u001b[39m\"\u001b[39m\u001b[39mLayer \u001b[39m\u001b[39m'\u001b[39m\u001b[39m{\u001b[39;00m\u001b[39mself\u001b[39m\u001b[39m.\u001b[39mname\u001b[39m}\u001b[39;00m\u001b[39m'\u001b[39m\u001b[39m expected \u001b[39m\u001b[39m{\u001b[39;00m\u001b[39mlen\u001b[39m(all_vars)\u001b[39m}\u001b[39;00m\u001b[39m variables, \u001b[39m\u001b[39m\"\u001b[39m\n\u001b[0;32m   3541\u001b[0m         \u001b[39m\"\u001b[39m\u001b[39mbut received \u001b[39m\u001b[39m\"\u001b[39m\n\u001b[0;32m   3542\u001b[0m         \u001b[39mf\u001b[39m\u001b[39m\"\u001b[39m\u001b[39m{\u001b[39;00m\u001b[39mlen\u001b[39m(store\u001b[39m.\u001b[39mkeys())\u001b[39m}\u001b[39;00m\u001b[39m variables during loading. \u001b[39m\u001b[39m\"\u001b[39m\n\u001b[0;32m   3543\u001b[0m         \u001b[39mf\u001b[39m\u001b[39m\"\u001b[39m\u001b[39mExpected: \u001b[39m\u001b[39m{\u001b[39;00m[v\u001b[39m.\u001b[39mname\u001b[39m \u001b[39m\u001b[39mfor\u001b[39;00m\u001b[39m \u001b[39mv\u001b[39m \u001b[39m\u001b[39min\u001b[39;00m\u001b[39m \u001b[39mall_vars]\u001b[39m}\u001b[39;00m\u001b[39m\"\u001b[39m\n\u001b[0;32m   3544\u001b[0m     )\n\u001b[0;32m   3545\u001b[0m \u001b[39mfor\u001b[39;00m i, v \u001b[39min\u001b[39;00m \u001b[39menumerate\u001b[39m(all_vars):\n\u001b[0;32m   3546\u001b[0m     \u001b[39m# TODO(rchao): check shapes and raise errors.\u001b[39;00m\n\u001b[0;32m   3547\u001b[0m     v\u001b[39m.\u001b[39massign(store[\u001b[39mf\u001b[39m\u001b[39m\"\u001b[39m\u001b[39m{\u001b[39;00mi\u001b[39m}\u001b[39;00m\u001b[39m\"\u001b[39m])\n",
      "\u001b[1;31mValueError\u001b[0m: Layer 'lstm_cell' expected 3 variables, but received 0 variables during loading. Expected: ['lstm/lstm_cell/kernel:0', 'lstm/lstm_cell/recurrent_kernel:0', 'lstm/lstm_cell/bias:0']"
     ]
    }
   ],
   "source": [
    "model = load_model('closing_model.keras')\n"
   ]
  },
  {
   "cell_type": "code",
   "execution_count": null,
   "metadata": {},
   "outputs": [
    {
     "data": {
      "text/plain": [
       "array([[  1.24639,   1.24653,  88.     ],\n",
       "       [  1.24654,   1.24672,  88.     ],\n",
       "       [  1.24673,   1.24662,  97.     ],\n",
       "       [  1.24661,   1.24622, 128.     ],\n",
       "       [  1.24623,   1.24628, 247.     ],\n",
       "       [  1.24627,   1.24611,  94.     ],\n",
       "       [  1.2461 ,   1.24596, 102.     ],\n",
       "       [  1.24594,   1.24587, 164.     ],\n",
       "       [  1.24586,   1.2458 , 183.     ],\n",
       "       [  1.2458 ,   1.24583,  96.     ],\n",
       "       [  1.24583,   1.24574, 105.     ],\n",
       "       [  1.24574,   1.24583, 120.     ],\n",
       "       [  1.24584,   1.24576,  66.     ],\n",
       "       [  1.24575,   1.24565, 112.     ],\n",
       "       [  1.24565,   1.24548,  94.     ],\n",
       "       [  1.24549,   1.24523,  81.     ],\n",
       "       [  1.24522,   1.24524, 158.     ],\n",
       "       [  1.24523,   1.24534, 160.     ],\n",
       "       [  1.24532,   1.24537, 237.     ],\n",
       "       [  1.24538,   1.24504, 205.     ],\n",
       "       [  1.24507,   1.24521, 196.     ],\n",
       "       [  1.24522,   1.24519, 122.     ],\n",
       "       [  1.24519,   1.24523, 138.     ],\n",
       "       [  1.24524,   1.24527, 165.     ],\n",
       "       [  1.24526,   1.2453 , 167.     ],\n",
       "       [  1.2453 ,   1.24528,  49.     ],\n",
       "       [  1.24529,   1.24531, 121.     ],\n",
       "       [  1.2453 ,   1.24532,  88.     ],\n",
       "       [  1.24532,   1.24523, 114.     ],\n",
       "       [  1.24523,   1.24524,  59.     ],\n",
       "       [  1.24523,   1.24525, 119.     ],\n",
       "       [  1.24526,   1.2453 ,  58.     ],\n",
       "       [  1.2453 ,   1.2453 , 105.     ],\n",
       "       [  1.2453 ,   1.24531,  66.     ],\n",
       "       [  1.24532,   1.24533,  89.     ],\n",
       "       [  1.24534,   1.24531, 111.     ],\n",
       "       [  1.24531,   1.24531, 142.     ],\n",
       "       [  1.24531,   1.24521,  85.     ],\n",
       "       [  1.2452 ,   1.24518, 164.     ],\n",
       "       [  1.24519,   1.24544, 166.     ],\n",
       "       [  1.24543,   1.24571, 156.     ],\n",
       "       [  1.24571,   1.24595,  38.     ],\n",
       "       [  1.24595,   1.24596,  11.     ],\n",
       "       [  1.24596,   1.24596,  54.     ],\n",
       "       [  1.24596,   1.24597, 126.     ],\n",
       "       [  1.24597,   1.246  ,  29.     ],\n",
       "       [  1.246  ,   1.24595,  91.     ],\n",
       "       [  1.24595,   1.24592,  52.     ],\n",
       "       [  1.24593,   1.24612,  96.     ],\n",
       "       [  1.24611,   1.24597, 104.     ],\n",
       "       [  1.24596,   1.24606, 128.     ],\n",
       "       [  1.24607,   1.24606, 112.     ],\n",
       "       [  1.24606,   1.24603,  76.     ],\n",
       "       [  1.24602,   1.246  , 118.     ],\n",
       "       [  1.24601,   1.24599,  53.     ],\n",
       "       [  1.24599,   1.246  ,  57.     ],\n",
       "       [  1.24601,   1.24595,  89.     ],\n",
       "       [  1.24594,   1.24602,  37.     ],\n",
       "       [  1.246  ,   1.24602,  39.     ],\n",
       "       [  1.24599,   1.24595,   7.     ]])"
      ]
     },
     "execution_count": 9,
     "metadata": {},
     "output_type": "execute_result"
    }
   ],
   "source": [
    "\n",
    "# using it to predict the next price\n",
    "# we need to give the model a new data \n",
    "data = pd.read_csv('GBPUSD')\n",
    "data = data.filter(items = ['Close'])\n",
    "dataset = data.values\n",
    "last_values = data[-60:].values\n",
    "last_values"
   ]
  },
  {
   "cell_type": "code",
   "execution_count": null,
   "metadata": {},
   "outputs": [
    {
     "ename": "ValueError",
     "evalue": "in user code:\n\n    File \"c:\\Users\\abdelhamid\\Desktop\\venvs\\ml\\Lib\\site-packages\\keras\\src\\engine\\training.py\", line 2341, in predict_function  *\n        return step_function(self, iterator)\n    File \"c:\\Users\\abdelhamid\\Desktop\\venvs\\ml\\Lib\\site-packages\\keras\\src\\engine\\training.py\", line 2327, in step_function  **\n        outputs = model.distribute_strategy.run(run_step, args=(data,))\n    File \"c:\\Users\\abdelhamid\\Desktop\\venvs\\ml\\Lib\\site-packages\\keras\\src\\engine\\training.py\", line 2315, in run_step  **\n        outputs = model.predict_step(data)\n    File \"c:\\Users\\abdelhamid\\Desktop\\venvs\\ml\\Lib\\site-packages\\keras\\src\\engine\\training.py\", line 2283, in predict_step\n        return self(x, training=False)\n    File \"c:\\Users\\abdelhamid\\Desktop\\venvs\\ml\\Lib\\site-packages\\keras\\src\\utils\\traceback_utils.py\", line 70, in error_handler\n        raise e.with_traceback(filtered_tb) from None\n    File \"c:\\Users\\abdelhamid\\Desktop\\venvs\\ml\\Lib\\site-packages\\keras\\src\\engine\\input_spec.py\", line 298, in assert_input_compatibility\n        raise ValueError(\n\n    ValueError: Input 0 of layer \"sequential\" is incompatible with the layer: expected shape=(None, 60, 1), found shape=(None, 3)\n",
     "output_type": "error",
     "traceback": [
      "\u001b[1;31m---------------------------------------------------------------------------\u001b[0m",
      "\u001b[1;31mValueError\u001b[0m                                Traceback (most recent call last)",
      "\u001b[1;32mc:\\Users\\abdelhamid\\Desktop\\venvs\\ml\\root\\lstm_ma_cross.py\\use.ipynb Cell 4\u001b[0m line \u001b[0;36m2\n\u001b[0;32m      <a href='vscode-notebook-cell:/c%3A/Users/abdelhamid/Desktop/venvs/ml/root/lstm_ma_cross.py/use.ipynb#W3sZmlsZQ%3D%3D?line=0'>1</a>\u001b[0m X_test \u001b[39m=\u001b[39m last_values\n\u001b[1;32m----> <a href='vscode-notebook-cell:/c%3A/Users/abdelhamid/Desktop/venvs/ml/root/lstm_ma_cross.py/use.ipynb#W3sZmlsZQ%3D%3D?line=1'>2</a>\u001b[0m y_pred \u001b[39m=\u001b[39m model\u001b[39m.\u001b[39;49mpredict(X_test)\n\u001b[0;32m      <a href='vscode-notebook-cell:/c%3A/Users/abdelhamid/Desktop/venvs/ml/root/lstm_ma_cross.py/use.ipynb#W3sZmlsZQ%3D%3D?line=2'>3</a>\u001b[0m \u001b[39mprint\u001b[39m(y_pred)\n",
      "File \u001b[1;32mc:\\Users\\abdelhamid\\Desktop\\venvs\\ml\\Lib\\site-packages\\keras\\src\\utils\\traceback_utils.py:70\u001b[0m, in \u001b[0;36mfilter_traceback.<locals>.error_handler\u001b[1;34m(*args, **kwargs)\u001b[0m\n\u001b[0;32m     67\u001b[0m     filtered_tb \u001b[39m=\u001b[39m _process_traceback_frames(e\u001b[39m.\u001b[39m__traceback__)\n\u001b[0;32m     68\u001b[0m     \u001b[39m# To get the full stack trace, call:\u001b[39;00m\n\u001b[0;32m     69\u001b[0m     \u001b[39m# `tf.debugging.disable_traceback_filtering()`\u001b[39;00m\n\u001b[1;32m---> 70\u001b[0m     \u001b[39mraise\u001b[39;00m e\u001b[39m.\u001b[39mwith_traceback(filtered_tb) \u001b[39mfrom\u001b[39;00m \u001b[39mNone\u001b[39;00m\n\u001b[0;32m     71\u001b[0m \u001b[39mfinally\u001b[39;00m:\n\u001b[0;32m     72\u001b[0m     \u001b[39mdel\u001b[39;00m filtered_tb\n",
      "File \u001b[1;32m~\\AppData\\Local\\Temp\\__autograph_generated_filej92ngs2t.py:15\u001b[0m, in \u001b[0;36mouter_factory.<locals>.inner_factory.<locals>.tf__predict_function\u001b[1;34m(iterator)\u001b[0m\n\u001b[0;32m     13\u001b[0m \u001b[39mtry\u001b[39;00m:\n\u001b[0;32m     14\u001b[0m     do_return \u001b[39m=\u001b[39m \u001b[39mTrue\u001b[39;00m\n\u001b[1;32m---> 15\u001b[0m     retval_ \u001b[39m=\u001b[39m ag__\u001b[39m.\u001b[39mconverted_call(ag__\u001b[39m.\u001b[39mld(step_function), (ag__\u001b[39m.\u001b[39mld(\u001b[39mself\u001b[39m), ag__\u001b[39m.\u001b[39mld(iterator)), \u001b[39mNone\u001b[39;00m, fscope)\n\u001b[0;32m     16\u001b[0m \u001b[39mexcept\u001b[39;00m:\n\u001b[0;32m     17\u001b[0m     do_return \u001b[39m=\u001b[39m \u001b[39mFalse\u001b[39;00m\n",
      "\u001b[1;31mValueError\u001b[0m: in user code:\n\n    File \"c:\\Users\\abdelhamid\\Desktop\\venvs\\ml\\Lib\\site-packages\\keras\\src\\engine\\training.py\", line 2341, in predict_function  *\n        return step_function(self, iterator)\n    File \"c:\\Users\\abdelhamid\\Desktop\\venvs\\ml\\Lib\\site-packages\\keras\\src\\engine\\training.py\", line 2327, in step_function  **\n        outputs = model.distribute_strategy.run(run_step, args=(data,))\n    File \"c:\\Users\\abdelhamid\\Desktop\\venvs\\ml\\Lib\\site-packages\\keras\\src\\engine\\training.py\", line 2315, in run_step  **\n        outputs = model.predict_step(data)\n    File \"c:\\Users\\abdelhamid\\Desktop\\venvs\\ml\\Lib\\site-packages\\keras\\src\\engine\\training.py\", line 2283, in predict_step\n        return self(x, training=False)\n    File \"c:\\Users\\abdelhamid\\Desktop\\venvs\\ml\\Lib\\site-packages\\keras\\src\\utils\\traceback_utils.py\", line 70, in error_handler\n        raise e.with_traceback(filtered_tb) from None\n    File \"c:\\Users\\abdelhamid\\Desktop\\venvs\\ml\\Lib\\site-packages\\keras\\src\\engine\\input_spec.py\", line 298, in assert_input_compatibility\n        raise ValueError(\n\n    ValueError: Input 0 of layer \"sequential\" is incompatible with the layer: expected shape=(None, 60, 1), found shape=(None, 3)\n"
     ]
    }
   ],
   "source": [
    "\n",
    "X_test = last_values\n",
    "y_pred = model.predict(X_test)\n",
    "print(y_pred)\n"
   ]
  }
 ],
 "metadata": {
  "kernelspec": {
   "display_name": "ml",
   "language": "python",
   "name": "python3"
  },
  "language_info": {
   "codemirror_mode": {
    "name": "ipython",
    "version": 3
   },
   "file_extension": ".py",
   "mimetype": "text/x-python",
   "name": "python",
   "nbconvert_exporter": "python",
   "pygments_lexer": "ipython3",
   "version": "3.11.0"
  },
  "orig_nbformat": 4
 },
 "nbformat": 4,
 "nbformat_minor": 2
}
